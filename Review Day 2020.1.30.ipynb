{
 "cells": [
  {
   "cell_type": "markdown",
   "metadata": {},
   "source": [
    "<h4 class='prehead'>SM286D &middot; Introduction to Applied Mathematics with Python &middot; Spring 2020 &middot; Uhan</h5>\n",
    "\n",
    "<h1 class='lesson_title'>Review Day &mdash; 30 January 2020</h1>"
   ]
  },
  {
   "cell_type": "markdown",
   "metadata": {},
   "source": [
    "## Jupyter is freezing..."
   ]
  },
  {
   "cell_type": "markdown",
   "metadata": {},
   "source": [
    "- Sometimes you might find that Jupyter is unresponsive.\n",
    "\n",
    "- In particular, you might see\n",
    "  ![](img/in.png)\n",
    "  next to an input cell, and a black dot next to Python in the upper right corner, like this\n",
    "  ![](img/corner.png)\n",
    "  and both won't go away.\n",
    "\n",
    "- This is an indication that Python is working hard... or Python has crashed.\n",
    "\n",
    "- If your code is supposed run quickly, then you might need to refresh your computing environment. In order of least invasive to most invasive, try the following:\n",
    "\n",
    "    1. Press the stop button\n",
    "    2. Restart the kernel.\n",
    "    3. Restart Jupyter Notebook. (Close the Jupyter Notebook command prompt window, then re-open Jupyter Notebook from the Start menu)\n",
    "    4. Restart your computer."
   ]
  },
  {
   "cell_type": "markdown",
   "metadata": {},
   "source": [
    "---"
   ]
  },
  {
   "cell_type": "markdown",
   "metadata": {},
   "source": [
    "## Hint for Project 2"
   ]
  },
  {
   "cell_type": "markdown",
   "metadata": {},
   "source": [
    "- If you're having trouble getting started with creating the list of feasible solutions, consider the following example.\n",
    "\n",
    "- Suppose you want to generate all pairs of numbers in which the first number is between 0 and 3, and the second number is between 0 and 4.\n",
    "\n",
    "- You can do so like this: (Run the cell below to view the Python Tutor)"
   ]
  },
  {
   "cell_type": "code",
   "execution_count": 4,
   "metadata": {
    "scrolled": false
   },
   "outputs": [
    {
     "data": {
      "text/html": [
       "\n",
       "        <iframe\n",
       "            width=\"800\"\n",
       "            height=\"400\"\n",
       "            src=\"http://pythontutor.com/iframe-embed.html#code=for%20i%20in%20range%284%29%3A%0A%20%20%20%20for%20j%20in%20range%285%29%3A%0A%20%20%20%20%20%20%20%20print%28f%22The%20first%20number%20is%20%7Bi%7D%20and%20the%20second%20number%20is%20%7Bj%7D%22%29&codeDivHeight=400&codeDivWidth=350&cumulative=false&curInstr=0&heapPrimitives=false&origin=opt-frontend.js&py=3&rawInputLstJSON=%5B%5D&textReferences=false\"\n",
       "            frameborder=\"0\"\n",
       "            allowfullscreen\n",
       "        ></iframe>\n",
       "        "
      ],
      "text/plain": [
       "<IPython.lib.display.IFrame at 0x106cc4b38>"
      ]
     },
     "execution_count": 4,
     "metadata": {},
     "output_type": "execute_result"
    }
   ],
   "source": [
    "from IPython.display import IFrame\n",
    "IFrame(\"http://pythontutor.com/iframe-embed.html#code=for%20i%20in%20range%284%29%3A%0A%20%20%20%20for%20j%20in%20range%285%29%3A%0A%20%20%20%20%20%20%20%20print%28f%22The%20first%20number%20is%20%7Bi%7D%20and%20the%20second%20number%20is%20%7Bj%7D%22%29&codeDivHeight=400&codeDivWidth=350&cumulative=false&curInstr=0&heapPrimitives=false&origin=opt-frontend.js&py=3&rawInputLstJSON=%5B%5D&textReferences=false\", width=800, height=400)"
   ]
  },
  {
   "cell_type": "markdown",
   "metadata": {},
   "source": [
    "- How can you modify the above code so that it only prints out values of `i` and `j` such that `i + j <= 5`?"
   ]
  },
  {
   "cell_type": "markdown",
   "metadata": {},
   "source": [
    "---"
   ]
  },
  {
   "cell_type": "markdown",
   "metadata": {},
   "source": [
    "## Quiz 1"
   ]
  },
  {
   "cell_type": "markdown",
   "metadata": {},
   "source": [
    "- Some of you did excellent work, but overall, the quiz didn't go so well.\n",
    "\n",
    "- This quiz covered some fundamental material, so it's really important that everyone has a good grasp of it.\n",
    "\n",
    "- So..."
   ]
  },
  {
   "cell_type": "markdown",
   "metadata": {},
   "source": [
    "### Resubmission instructions for Quiz 1"
   ]
  },
  {
   "cell_type": "markdown",
   "metadata": {},
   "source": [
    "- You may use this class period to redo and resubmit Quiz 1. \n",
    "\n",
    "- Same rules apply: You may use your own course materials (e.g. notes, textbook), as well as any materials directly linked from the [class website](https://www.usna.edu/Users/math/uhan/sm286d/). __No collaboration allowed.__\n",
    "\n",
    "- If you have questions about my feedback, please ask.\n",
    "\n",
    "- You must redo and resubmit the entire quiz. (You can copy and paste from your original quiz as you see fit.)\n",
    "\n",
    "- Resubmissions are due by the end of this class period. I will post solutions this afternoon.\n",
    "\n",
    "- Your Quiz 1 grade will be:\n",
    "\\begin{equation*}\n",
    "\\max \\left\\{ \\text{original grade}, \\frac{\\text{original grade} + \\text{resubmission grade}}{2} \\right\\}\n",
    "\\end{equation*}\n",
    "\n",
    "- __Don't count on being able to redo and resubmit future quizzes.__"
   ]
  },
  {
   "cell_type": "markdown",
   "metadata": {},
   "source": [
    "### Hints on Quiz 1"
   ]
  },
  {
   "cell_type": "markdown",
   "metadata": {},
   "source": [
    "- Follow directions carefully. Use the variable names given.\n",
    "\n",
    "- Problem 2:\n",
    "    - You don't need a `for` loop. Just a sequence of `if-elif-else` statements will do the trick.\n",
    "    - From Lesson 3: to check if a variable's value is between two numbers, you can do something like this:\n",
    "        ```python\n",
    "        # Am I between 20 and 30 years old?\n",
    "        print((age >= 20) and (age <= 30))\n",
    "        ```\n",
    "\n",
    "- Problem 3c: Using indexing, how do you access `'banana'` in `fruit_list`?\n",
    "\n",
    "- Problem 4: Again, follow the directions carefully. See Problem 2 from Lesson 3 for a similar problem."
   ]
  }
 ],
 "metadata": {
  "kernelspec": {
   "display_name": "Python 3",
   "language": "python",
   "name": "python3"
  },
  "language_info": {
   "codemirror_mode": {
    "name": "ipython",
    "version": 3
   },
   "file_extension": ".py",
   "mimetype": "text/x-python",
   "name": "python",
   "nbconvert_exporter": "python",
   "pygments_lexer": "ipython3",
   "version": "3.6.4"
  }
 },
 "nbformat": 4,
 "nbformat_minor": 2
}
